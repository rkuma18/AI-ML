{
 "cells": [
  {
   "cell_type": "code",
   "execution_count": 1,
   "metadata": {},
   "outputs": [
    {
     "name": "stdout",
     "output_type": "stream",
     "text": [
      "                          text\n",
      "0          I love programming!\n",
      "1          NLP is fascinating.\n",
      "2  Data science is the future.\n"
     ]
    }
   ],
   "source": [
    "import pandas as pd\n",
    "\n",
    "# Sample dataset\n",
    "data = {'text': [\"I love programming!\", \"NLP is fascinating.\", \"Data science is the future.\"]}\n",
    "df = pd.DataFrame(data)\n",
    "\n",
    "print(df)"
   ]
  },
  {
   "cell_type": "code",
   "execution_count": 2,
   "metadata": {},
   "outputs": [
    {
     "name": "stdout",
     "output_type": "stream",
     "text": [
      "                  text\n",
      "0  I love programming!\n",
      "2  NLP is fascinating.\n"
     ]
    }
   ],
   "source": [
    "# Sample dataset with duplicates\n",
    "data = {'text': [\"I love programming!\", \"I love programming!\", \"NLP is fascinating.\"]}\n",
    "df = pd.DataFrame(data)\n",
    "\n",
    "# Remove duplicates\n",
    "df.drop_duplicates(inplace=True)\n",
    "\n",
    "print(df)"
   ]
  },
  {
   "cell_type": "code",
   "execution_count": 3,
   "metadata": {},
   "outputs": [
    {
     "name": "stdout",
     "output_type": "stream",
     "text": [
      "[[0 0 1 1]\n",
      " [1 1 0 1]]\n"
     ]
    }
   ],
   "source": [
    "from sklearn.feature_extraction.text import CountVectorizer\n",
    "\n",
    "# Sample documents\n",
    "documents = [\"I love NLP\", \"NLP is fun\"]\n",
    "\n",
    "# Create BoW model\n",
    "vectorizer = CountVectorizer()\n",
    "X = vectorizer.fit_transform(documents)\n",
    "\n",
    "print(X.toarray())  # Display the BoW matrix"
   ]
  },
  {
   "cell_type": "code",
   "execution_count": 4,
   "metadata": {},
   "outputs": [
    {
     "name": "stdout",
     "output_type": "stream",
     "text": [
      "[1, 1, 1]\n"
     ]
    }
   ],
   "source": [
    "def get_bag_of_words(doc, vocab):\n",
    "    word_count_dict = dict.fromkeys(vocab, 0)\n",
    "    for word in doc.split():\n",
    "        word_count_dict[word] += 1\n",
    "    \n",
    "    return list(word_count_dict.values())\n",
    "\n",
    "# Example usage\n",
    "vocab = ['I', 'love', 'NLP']\n",
    "doc = 'I love NLP'\n",
    "print(get_bag_of_words(doc, vocab))"
   ]
  },
  {
   "cell_type": "code",
   "execution_count": 7,
   "metadata": {},
   "outputs": [
    {
     "name": "stdout",
     "output_type": "stream",
     "text": [
      "['run', 'ran', 'easili', 'fairli']\n"
     ]
    }
   ],
   "source": [
    "from nltk.stem import PorterStemmer\n",
    "\n",
    "stemmer = PorterStemmer()\n",
    "words = [\"running\", \"ran\", \"easily\", \"fairly\"]\n",
    "stems = [stemmer.stem(word) for word in words]\n",
    "\n",
    "print(stems)"
   ]
  },
  {
   "cell_type": "code",
   "execution_count": 12,
   "metadata": {},
   "outputs": [
    {
     "name": "stdout",
     "output_type": "stream",
     "text": [
      "['This', 'is', 'an', 'example', '.']\n"
     ]
    }
   ],
   "source": [
    "text = \"This is an example.\"\n",
    "tokens = word_tokenize(text)\n",
    "\n",
    "print(tokens)"
   ]
  },
  {
   "cell_type": "code",
   "execution_count": 13,
   "metadata": {},
   "outputs": [
    {
     "name": "stdout",
     "output_type": "stream",
     "text": [
      "[('I', 'love'), ('love', 'NLP')]\n"
     ]
    }
   ],
   "source": [
    "from nltk import ngrams\n",
    "\n",
    "text = \"I love NLP\"\n",
    "n_grams = list(ngrams(text.split(), 2))  # Bigrams\n",
    "\n",
    "print(n_grams)"
   ]
  },
  {
   "cell_type": "code",
   "execution_count": 14,
   "metadata": {},
   "outputs": [
    {
     "name": "stdout",
     "output_type": "stream",
     "text": [
      "[[0.         0.         0.81480247 0.57973867]\n",
      " [0.6316672  0.6316672  0.         0.44943642]]\n"
     ]
    }
   ],
   "source": [
    "from sklearn.feature_extraction.text import TfidfVectorizer\n",
    "\n",
    "documents = [\"I love programming\", \"Programming is fun\"]\n",
    "vectorizer = TfidfVectorizer()\n",
    "tfidf_matrix = vectorizer.fit_transform(documents)\n",
    "\n",
    "print(tfidf_matrix.toarray())"
   ]
  },
  {
   "cell_type": "code",
   "execution_count": 17,
   "metadata": {},
   "outputs": [
    {
     "name": "stdout",
     "output_type": "stream",
     "text": [
      "[-5.3622725e-04  2.3643136e-04  5.1033497e-03  9.0092728e-03\n",
      " -9.3029495e-03 -7.1168090e-03  6.4588725e-03  8.9729885e-03\n",
      " -5.0154282e-03 -3.7633716e-03  7.3805046e-03 -1.5334714e-03\n",
      " -4.5366134e-03  6.5540518e-03 -4.8601604e-03 -1.8160177e-03\n",
      "  2.8765798e-03  9.9187379e-04 -8.2852151e-03 -9.4488179e-03\n",
      "  7.3117660e-03  5.0702621e-03  6.7576934e-03  7.6286553e-04\n",
      "  6.3508903e-03 -3.4053659e-03 -9.4640139e-04  5.7685734e-03\n",
      " -7.5216377e-03 -3.9361035e-03 -7.5115822e-03 -9.3004224e-04\n",
      "  9.5381187e-03 -7.3191668e-03 -2.3337686e-03 -1.9377411e-03\n",
      "  8.0774371e-03 -5.9308959e-03  4.5162440e-05 -4.7537340e-03\n",
      " -9.6035507e-03  5.0072931e-03 -8.7595852e-03 -4.3918253e-03\n",
      " -3.5099984e-05 -2.9618145e-04 -7.6612402e-03  9.6147433e-03\n",
      "  4.9820580e-03  9.2331432e-03 -8.1579173e-03  4.4957981e-03\n",
      " -4.1370760e-03  8.2453608e-04  8.4986202e-03 -4.4621765e-03\n",
      "  4.5175003e-03 -6.7869602e-03 -3.5484887e-03  9.3985079e-03\n",
      " -1.5776526e-03  3.2137157e-04 -4.1406299e-03 -7.6826881e-03\n",
      " -1.5080082e-03  2.4697948e-03 -8.8802696e-04  5.5336617e-03\n",
      " -2.7429771e-03  2.2600652e-03  5.4557943e-03  8.3459532e-03\n",
      " -1.4537406e-03 -9.2081428e-03  4.3705525e-03  5.7178497e-04\n",
      "  7.4419081e-03 -8.1328274e-04 -2.6384138e-03 -8.7530091e-03\n",
      " -8.5655687e-04  2.8265631e-03  5.4014288e-03  7.0526563e-03\n",
      " -5.7031214e-03  1.8588197e-03  6.0888636e-03 -4.7980510e-03\n",
      " -3.1072604e-03  6.7976294e-03  1.6314756e-03  1.8991709e-04\n",
      "  3.4736372e-03  2.1777749e-04  9.6188262e-03  5.0606038e-03\n",
      " -8.9173904e-03 -7.0415605e-03  9.0145587e-04  6.3925339e-03]\n"
     ]
    }
   ],
   "source": [
    "from gensim.models import Word2Vec\n",
    "\n",
    "sentences = [[\"I\", \"love\", \"NLP\"], [\"NLP\", \"is\", \"fun\"]]\n",
    "model = Word2Vec(sentences, min_count=1)\n",
    "\n",
    "# Get vector for a word\n",
    "vector = model.wv['NLP']\n",
    "print(vector)"
   ]
  },
  {
   "cell_type": "code",
   "execution_count": 18,
   "metadata": {},
   "outputs": [
    {
     "name": "stdout",
     "output_type": "stream",
     "text": [
      "[-3.27399559e-03  2.44761701e-03  2.88764626e-04  1.86964741e-03\n",
      " -1.09682046e-03 -2.11842917e-03  2.77741882e-03  4.66167694e-03\n",
      " -7.74427608e-04 -1.67730788e-03  3.35219293e-03  1.40458310e-03\n",
      " -1.80555135e-03  8.48808966e-04 -3.13561555e-04 -1.75445841e-03\n",
      "  2.40402040e-03 -1.10370456e-05 -3.41602881e-03 -2.07135640e-03\n",
      "  2.71236338e-03 -4.07869782e-04  5.54878265e-03  3.98697425e-03\n",
      " -8.32398597e-04 -3.03685811e-04  1.27708307e-03  3.54712573e-03\n",
      " -3.21885385e-03 -9.82971396e-04 -9.51390248e-04 -7.98562018e-04\n",
      "  1.38282310e-03 -4.23684577e-03  1.62917329e-03  4.32349130e-04\n",
      "  4.08497034e-03 -2.59135594e-03 -2.30917917e-03  1.08744961e-03\n",
      " -1.78378320e-03  1.56946538e-03 -2.78279674e-03 -4.65111254e-04\n",
      "  2.73110997e-03 -5.80612279e-04 -1.06122391e-03  2.36334745e-03\n",
      "  1.55698333e-03  1.03025278e-03 -7.78380781e-04  2.09105853e-03\n",
      " -1.81789289e-03 -2.75355601e-03  8.83463479e-04 -2.58820620e-03\n",
      "  2.05008851e-04 -1.34867185e-03  6.80093654e-05  7.34508329e-04\n",
      "  3.99932847e-04  2.27424025e-04  9.73947579e-04 -2.44855159e-03\n",
      " -8.96328129e-06 -7.78953952e-04  1.20913505e-03  5.07442467e-03\n",
      " -2.11721309e-03 -6.29487913e-05  2.04493850e-03  2.57531437e-03\n",
      " -1.23766216e-03  1.38303265e-04  1.28755497e-03  2.11630642e-04\n",
      "  5.93401317e-04  2.84739584e-03 -8.58689484e-04 -3.72398924e-03\n",
      " -2.81798933e-03  1.00315269e-03  3.12434323e-03  2.25815922e-03\n",
      " -3.21377558e-03 -1.43781304e-03  5.30987419e-03  1.09346896e-04\n",
      " -2.99143535e-03 -9.69236426e-04 -7.20512995e-04 -9.76765528e-04\n",
      "  1.73674396e-03 -1.23825250e-03  5.58524812e-03  7.02450052e-05\n",
      " -2.69691780e-04 -3.04709026e-03 -1.83115015e-04  1.12503313e-03]\n"
     ]
    }
   ],
   "source": [
    "import numpy as np\n",
    "\n",
    "def tfidf_weighted_avg_word2vec(words, model, tfidf):\n",
    "    return np.mean([model.wv[word] * tfidf[word] for word in words if word in model.wv], axis=0)\n",
    "\n",
    "# Example usage with dummy TF-IDF weights\n",
    "words = ['I', 'love', 'NLP']\n",
    "tfidf_weights = {'I': 0.5, 'love': 0.7, 'NLP': 0.9}\n",
    "avg_vector = tfidf_weighted_avg_word2vec(words, model, tfidf_weights)\n",
    "\n",
    "print(avg_vector)"
   ]
  }
 ],
 "metadata": {
  "kernelspec": {
   "display_name": "mltest",
   "language": "python",
   "name": "python3"
  },
  "language_info": {
   "codemirror_mode": {
    "name": "ipython",
    "version": 3
   },
   "file_extension": ".py",
   "mimetype": "text/x-python",
   "name": "python",
   "nbconvert_exporter": "python",
   "pygments_lexer": "ipython3",
   "version": "3.12.1"
  }
 },
 "nbformat": 4,
 "nbformat_minor": 2
}
