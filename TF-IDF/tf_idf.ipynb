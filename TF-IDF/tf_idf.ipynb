{
 "cells": [
  {
   "cell_type": "markdown",
   "metadata": {},
   "source": [
    "# TF-IDF: A Friendly Guide to Understanding Text Importance\n",
    "\n",
    "## What is TF-IDF?\n",
    "Imagine you're trying to understand how important words are in a collection of documents. TF-IDF is like a special detective that helps you figure out which words are truly meaningful.\n",
    "\n",
    "## The Two-Step Magic: TF and IDF\n",
    "\n",
    "### Step 1: Term Frequency (TF) - How Often Words Appear\n",
    "Think of Term Frequency like counting how many times a word shows up in a single document.\n",
    "\n",
    "Example:\n",
    "- Document: \"The cat sat on the mat. The cat is fluffy.\"\n",
    "- Word counts:\n",
    "  - \"the\": 2 times\n",
    "  - \"cat\": 2 times\n",
    "  - \"sat\": 1 time\n",
    "  - \"on\": 1 time\n",
    "  - \"mat\": 1 time\n",
    "  - \"is\": 1 time\n",
    "  - \"fluffy\": 1 time\n",
    "\n",
    "### Step 2: Inverse Document Frequency (IDF) - How Unique a Word Is\n",
    "IDF helps us understand how special or rare a word is across ALL documents.\n",
    "\n",
    "Imagine you have three documents:\n",
    "1. \"The cat is fluffy\"\n",
    "2. \"The dog is playful\"\n",
    "3. \"The bird flies high\"\n",
    "\n",
    "- \"the\" appears in ALL documents (common word)\n",
    "- \"cat\" appears in only ONE document (more unique)\n",
    "- \"fluffy\" appears in only ONE document (very unique)\n",
    "\n",
    "IDF gives more weight to unique words and less weight to common words.\n",
    "\n",
    "### Putting TF and IDF Together\n",
    "\n",
    "The TF-IDF score is calculated by multiplying Term Frequency (TF) and Inverse Document Frequency (IDF).\n",
    "\n",
    "```python\n",
    "TF-IDF = (Number of times word appears in a document) \n",
    "         × (Log of total documents ÷ Number of documents with the word)\n",
    "```"
   ]
  },
  {
   "cell_type": "code",
   "execution_count": null,
   "metadata": {},
   "outputs": [],
   "source": [
    "import math\n",
    "\n",
    "def calculate_tf(document):\n",
    "    # Count word frequencies in a single document\n",
    "    word_counts = {}\n",
    "    words = document.lower().split()\n",
    "    for word in words:\n",
    "        # Increment word count\n",
    "        word_counts[word] = word_counts.get(word, 0) + 1\n",
    "    \n",
    "    # Calculate Term Frequency\n",
    "    total_words = len(words)\n",
    "    tf = {word: count/total_words for word, count in word_counts.items()}\n",
    "    return tf"
   ]
  },
  {
   "cell_type": "code",
   "execution_count": 2,
   "metadata": {},
   "outputs": [],
   "source": [
    "def calculate_idf(documents):\n",
    "    # Count in how many documents each word appears\n",
    "    word_doc_count = {}\n",
    "    total_docs = len(documents)\n",
    "    \n",
    "    for document in documents:\n",
    "        unique_words = set(document.lower().split())\n",
    "        for word in unique_words:\n",
    "            word_doc_count[word] = word_doc_count.get(word, 0) + 1\n",
    "    \n",
    "    # Calculate Inverse Document Frequency\n",
    "    idf = {word: math.log(total_docs / count) for word, count in word_doc_count.items()}\n",
    "    return idf"
   ]
  },
  {
   "cell_type": "code",
   "execution_count": 3,
   "metadata": {},
   "outputs": [],
   "source": [
    "def calculate_tfidf(documents):\n",
    "    # Calculate TF-IDF for all documents\n",
    "    tfidf_results = []\n",
    "    idf = calculate_idf(documents)\n",
    "    \n",
    "    for document in documents:\n",
    "        tf = calculate_tf(document)\n",
    "        \n",
    "        # Combine TF and IDF\n",
    "        doc_tfidf = {word: tf_score * idf.get(word, 0) \n",
    "                     for word, tf_score in tf.items()}\n",
    "        tfidf_results.append(doc_tfidf)\n",
    "    \n",
    "    return tfidf_results"
   ]
  },
  {
   "cell_type": "code",
   "execution_count": 4,
   "metadata": {},
   "outputs": [
    {
     "name": "stdout",
     "output_type": "stream",
     "text": [
      "Document 1 TF-IDF Scores:\n",
      "cat: 0.2747\n",
      "fluffy: 0.2747\n",
      "is: 0.1014\n",
      "the: 0.0000\n",
      "Document 2 TF-IDF Scores:\n",
      "dog: 0.2747\n",
      "playful: 0.2747\n",
      "is: 0.1014\n",
      "the: 0.0000\n",
      "Document 3 TF-IDF Scores:\n",
      "bird: 0.2747\n",
      "flies: 0.2747\n",
      "high: 0.2747\n",
      "the: 0.0000\n"
     ]
    }
   ],
   "source": [
    "# Example usage\n",
    "documents = [\n",
    "    \"The cat is fluffy\",\n",
    "    \"The dog is playful\",\n",
    "    \"The bird flies high\"\n",
    "]\n",
    "\n",
    "tfidf_scores = calculate_tfidf(documents)\n",
    "for i, scores in enumerate(tfidf_scores):\n",
    "    print(f\"Document {i+1} TF-IDF Scores:\")\n",
    "    for word, score in sorted(scores.items(), key=lambda x: x[1], reverse=True):\n",
    "        print(f\"{word}: {score:.4f}\")"
   ]
  },
  {
   "cell_type": "markdown",
   "metadata": {},
   "source": [
    "## Real-World Applications\n",
    "TF-IDF is used in:\n",
    "- Search Engine Ranking\n",
    "- Document Similarity\n",
    "- Keyword Extraction\n",
    "- Recommendation Systems\n",
    "\n",
    "## Key Takeaways\n",
    "1. TF shows how often a word appears in a document\n",
    "2. IDF shows how unique or rare a word is\n",
    "3. TF-IDF combines both to find truly important words"
   ]
  }
 ],
 "metadata": {
  "kernelspec": {
   "display_name": "Python 3",
   "language": "python",
   "name": "python3"
  },
  "language_info": {
   "codemirror_mode": {
    "name": "ipython",
    "version": 3
   },
   "file_extension": ".py",
   "mimetype": "text/x-python",
   "name": "python",
   "nbconvert_exporter": "python",
   "pygments_lexer": "ipython3",
   "version": "3.9.6"
  }
 },
 "nbformat": 4,
 "nbformat_minor": 2
}
